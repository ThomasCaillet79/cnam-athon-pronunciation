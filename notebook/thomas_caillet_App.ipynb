{
 "cells": [
  {
   "cell_type": "markdown",
   "metadata": {},
   "source": [
    "# DicoCo\n",
    "\n",
    "*Thomas CAILLET*"
   ]
  },
  {
   "cell_type": "code",
   "execution_count": 1,
   "metadata": {},
   "outputs": [],
   "source": [
    "# import necessaire à la création des widgets\n",
    "from IPython.display import display, clear_output, HTML, Markdown \n",
    "import ipywidgets as widgets\n"
   ]
  },
  {
   "cell_type": "code",
   "execution_count": 2,
   "metadata": {},
   "outputs": [],
   "source": [
    "# definition du widget permettant de taper un texte \n",
    "textTarget = widgets.Text(\n",
    "       value=\"love\",\n",
    "       description='filtre hwd',\n",
    "       layout={'width': '300px'} )"
   ]
  },
  {
   "cell_type": "code",
   "execution_count": 3,
   "metadata": {},
   "outputs": [],
   "source": [
    "# définition du widget button permettant de lancer l'extraction\n",
    "button = widgets.Button(description='Démarrer')\n",
    "\n",
    "# définition du widget permettant l'affichage d'une sortie\n",
    "out1 = widgets.Output()\n",
    "out2 = widgets.Output()\n",
    "\n",
    "# spécifier les actions à réaliser lors de l'appui sur le bouton\n",
    "def on_button_clicked(_):\n",
    "    \n",
    "    # récupérer le texte saisi par l'utilisateur\n",
    "    targetWord = textTarget.value\n",
    "\n",
    "    with out1:\n",
    "        clear_output()\n",
    "        \n",
    "        urlLongman = \"https://www.ldoceonline.com/dictionary/\"\n",
    "        urlTarget = urlLongman+targetWord\n",
    "        display(HTML('<a href=\"'+urlTarget+'\" target=\"_blank\" >'+'longman : '+targetWord+'</a>'))\n",
    "\n",
    "    with out2:\n",
    "        clear_output()\n",
    "        \n",
    "        targetWord = textTarget.value\n",
    "        urlLinguee = \"https://www.linguee.fr/anglais-francais/traduction/\"\n",
    "        urlTarget = urlLinguee+targetWord+'.html'\n",
    "        display(HTML('<a href=\"'+urlTarget+'\" target=\"_blank\" >'+'linguee : '+targetWord+'</a>'))\n",
    "        \n",
    "        \n",
    "button.on_click(on_button_clicked)"
   ]
  },
  {
   "cell_type": "code",
   "execution_count": 4,
   "metadata": {},
   "outputs": [
    {
     "data": {
      "application/vnd.jupyter.widget-view+json": {
       "model_id": "1b2cf644c10d47d8b10b59e131c1a16b",
       "version_major": 2,
       "version_minor": 0
      },
      "text/plain": [
       "VBox(children=(HBox(children=(Text(value='love', description='filtre hwd', layout=Layout(width='300px')), Butt…"
      ]
     },
     "metadata": {},
     "output_type": "display_data"
    }
   ],
   "source": [
    "# les widgets de filtre input (création du widget layout horizontal)\n",
    "vbFiltres = widgets.HBox([textTarget, button])\n",
    "\n",
    "# les widgets d'output\n",
    "vbOuts = widgets.VBox([out1,out2])\n",
    "\n",
    "hbAllWidgets = widgets.VBox([vbFiltres,vbOuts])\n",
    "hbAllWidgets"
   ]
  },
  {
   "cell_type": "code",
   "execution_count": 30,
   "metadata": {},
   "outputs": [],
   "source": [
    "import pandas as pd\n",
    "import re"
   ]
  },
  {
   "cell_type": "code",
   "execution_count": 25,
   "metadata": {},
   "outputs": [],
   "source": [
    "cheminDicoBuchMot = \"./../data/dictionary/DicoMotVedette.csv\"\n",
    "monDico = pd.read_csv(cheminDicoBuchMot, delimiter=\";\", encoding=\"utf8\")"
   ]
  },
  {
   "cell_type": "code",
   "execution_count": 19,
   "metadata": {},
   "outputs": [],
   "source": [
    "def filtDf(strHwd):    \n",
    "    dfMonDicoFiltered = monDico[monDico['motVedette'].str.contains(strHwd, na=False,flags=re.IGNORECASE, regex=True)]\n",
    "    # dfMonDicoFiltered = dfWalkerFiltered[dfWalkerFiltered['nbSyll'].between(rangeSyll[0], rangeSyll[1], inclusive=True)]\n",
    "    return dfMonDicoFiltered"
   ]
  },
  {
   "cell_type": "code",
   "execution_count": 35,
   "metadata": {},
   "outputs": [
    {
     "data": {
      "text/html": [
       "<div>\n",
       "<style scoped>\n",
       "    .dataframe tbody tr th:only-of-type {\n",
       "        vertical-align: middle;\n",
       "    }\n",
       "\n",
       "    .dataframe tbody tr th {\n",
       "        vertical-align: top;\n",
       "    }\n",
       "\n",
       "    .dataframe thead th {\n",
       "        text-align: right;\n",
       "    }\n",
       "</style>\n",
       "<table border=\"1\" class=\"dataframe\">\n",
       "  <thead>\n",
       "    <tr style=\"text-align: right;\">\n",
       "      <th></th>\n",
       "      <th>nbSyll</th>\n",
       "      <th>pron</th>\n",
       "      <th>origin</th>\n",
       "      <th>warning</th>\n",
       "      <th>remarques</th>\n",
       "      <th>POS</th>\n",
       "      <th>lineId</th>\n",
       "      <th>pageId</th>\n",
       "      <th>motVedette</th>\n",
       "    </tr>\n",
       "  </thead>\n",
       "  <tbody>\n",
       "    <tr>\n",
       "      <th>208</th>\n",
       "      <td>2</td>\n",
       "      <td>lŏʹv_e_ly</td>\n",
       "      <td>NaN</td>\n",
       "      <td>NaN</td>\n",
       "      <td>NaN</td>\n",
       "      <td>a.</td>\n",
       "      <td>49.0</td>\n",
       "      <td>132</td>\n",
       "      <td>lovely</td>\n",
       "    </tr>\n",
       "  </tbody>\n",
       "</table>\n",
       "</div>"
      ],
      "text/plain": [
       "     nbSyll       pron origin warning remarques POS  lineId  pageId motVedette\n",
       "208       2  lŏʹv_e_ly    NaN     NaN       NaN  a.    49.0     132     lovely"
      ]
     },
     "execution_count": 35,
     "metadata": {},
     "output_type": "execute_result"
    }
   ],
   "source": [
    "filtDf('love')"
   ]
  },
  {
   "cell_type": "code",
   "execution_count": 56,
   "metadata": {},
   "outputs": [],
   "source": [
    "textFilter = widgets.Text(\n",
    "       value=\"love\",\n",
    "       description='filtre hwd',\n",
    "       layout={'width': '300px'} )\n",
    "\n",
    "buttonFiltrer = widgets.Button(description='Filtrer')\n",
    "\n",
    "nbOccur_f = widgets.IntSlider(value=3, min=0, max=20)\n",
    "\n",
    "outDf = widgets.Output()\n",
    "outMp3 = widgets.Output()\n",
    "\n",
    "def on_button_clicked_f(_):\n",
    "    \n",
    "    # récupérer le texte saisi par l'utilisateur\n",
    "    targetWord = textFilter.value\n",
    "    df_filtered = filtDf(targetWord)\n",
    "    df_filtered_visible = df_filtered.head(nbOccur_f.value)\n",
    "\n",
    "    with outDf:\n",
    "        clear_output()\n",
    "        display(df_filtered_visible)\n",
    "    \n",
    "    with outMp3:\n",
    "        clear_output()\n",
    "        for word in df_filtered_visible['motVedette']:\n",
    "            urlLongman = \"https://www.ldoceonline.com/dictionary/\"\n",
    "            urlTarget = urlLongman+word\n",
    "            display(HTML('<a href=\"'+urlTarget+'\" target=\"_blank\" >'+'longman : '+word+'</a>'))\n",
    "        \n",
    "buttonFiltrer.on_click(on_button_clicked_f)"
   ]
  },
  {
   "cell_type": "code",
   "execution_count": 55,
   "metadata": {},
   "outputs": [],
   "source": [
    "# def filterFct(word, nbOccur):\n",
    "#     df_filtered = filtDf(targetWord)\n",
    "#     df_filtered_visible = df_filtered.head(nbOccur_f.value)\n",
    "#     return df_filtered_visible"
   ]
  },
  {
   "cell_type": "code",
   "execution_count": 57,
   "metadata": {},
   "outputs": [
    {
     "data": {
      "application/vnd.jupyter.widget-view+json": {
       "model_id": "75a60967bf0c4cd9a577a4b0f00bdc1b",
       "version_major": 2,
       "version_minor": 0
      },
      "text/plain": [
       "VBox(children=(HBox(children=(Text(value='love', description='filtre hwd', layout=Layout(width='300px')), Butt…"
      ]
     },
     "metadata": {},
     "output_type": "display_data"
    }
   ],
   "source": [
    "vbFiltres_f = widgets.HBox([textFilter, buttonFiltrer, nbOccur_f])\n",
    "vbOuts_f = widgets.VBox([outDf,outMp3])\n",
    "\n",
    "hbAllWidgets_f = widgets.VBox([vbFiltres_f,vbOuts_f])\n",
    "\n",
    "hbAllWidgets_f"
   ]
  },
  {
   "cell_type": "code",
   "execution_count": 50,
   "metadata": {},
   "outputs": [],
   "source": []
  },
  {
   "cell_type": "code",
   "execution_count": 51,
   "metadata": {},
   "outputs": [
    {
     "data": {
      "application/vnd.jupyter.widget-view+json": {
       "model_id": "6aff72508cac4eb285b07494a8dc0363",
       "version_major": 2,
       "version_minor": 0
      },
      "text/plain": [
       "VBox(children=(HBox(children=(Text(value='^lo', description='filtre hwd', layout=Layout(width='300px')), Butto…"
      ]
     },
     "metadata": {},
     "output_type": "display_data"
    },
    {
     "data": {
      "application/vnd.jupyter.widget-view+json": {
       "model_id": "177d21638673453e96b6b37fc5a6f183",
       "version_major": 2,
       "version_minor": 0
      },
      "text/plain": [
       "Output(outputs=({'output_type': 'error', 'ename': 'TypeError', 'evalue': \"on_button_clicked_f() missing 1 requ…"
      ]
     },
     "metadata": {},
     "output_type": "display_data"
    }
   ],
   "source": [
    "display(hbAllWidgets_f, out)"
   ]
  }
 ],
 "metadata": {
  "kernelspec": {
   "display_name": "Python 3",
   "language": "python",
   "name": "python3"
  },
  "language_info": {
   "codemirror_mode": {
    "name": "ipython",
    "version": 3
   },
   "file_extension": ".py",
   "mimetype": "text/x-python",
   "name": "python",
   "nbconvert_exporter": "python",
   "pygments_lexer": "ipython3",
   "version": "3.7.6"
  }
 },
 "nbformat": 4,
 "nbformat_minor": 4
}
