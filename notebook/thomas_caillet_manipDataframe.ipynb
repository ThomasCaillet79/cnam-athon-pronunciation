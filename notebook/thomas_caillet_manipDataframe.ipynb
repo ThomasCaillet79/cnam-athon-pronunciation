{
 "cells": [
  {
   "cell_type": "code",
   "execution_count": 71,
   "metadata": {},
   "outputs": [],
   "source": [
    "import numpy as np\n",
    "import pandas as pd"
   ]
  },
  {
   "cell_type": "markdown",
   "metadata": {},
   "source": [
    "### 1) une colonne motVedette (transformation/simplification de la prononciation d'origine) en utilisant le mapping du fichier Buchanan_PronChar_counts.csv"
   ]
  },
  {
   "cell_type": "markdown",
   "metadata": {},
   "source": [
    "#### Import des données"
   ]
  },
  {
   "cell_type": "code",
   "execution_count": 72,
   "metadata": {},
   "outputs": [],
   "source": [
    "# préciser le chemin du fichier à lire\n",
    "\n",
    "cheminDuFichierDictionnaire = \"./../data/dictionary/1757_Buchanan-J.csv\"\n",
    "cheminDuFichierMapping = \"./../data/dictionary/Buchanan_PronChar_counts.csv\" \n",
    "\n",
    "# demander à pandas de lire le fichier et garder ce tableau accessible dans une variable\n",
    "dfDicoBuch = pd.read_csv(cheminDuFichierDictionnaire, delimiter=\";\", encoding=\"utf8\")\n",
    "dfDicoMapping = pd.read_csv(cheminDuFichierMapping, delimiter=\";\", encoding=\"utf8\")"
   ]
  },
  {
   "cell_type": "code",
   "execution_count": 73,
   "metadata": {},
   "outputs": [
    {
     "data": {
      "text/html": [
       "<div>\n",
       "<style scoped>\n",
       "    .dataframe tbody tr th:only-of-type {\n",
       "        vertical-align: middle;\n",
       "    }\n",
       "\n",
       "    .dataframe tbody tr th {\n",
       "        vertical-align: top;\n",
       "    }\n",
       "\n",
       "    .dataframe thead th {\n",
       "        text-align: right;\n",
       "    }\n",
       "</style>\n",
       "<table border=\"1\" class=\"dataframe\">\n",
       "  <thead>\n",
       "    <tr style=\"text-align: right;\">\n",
       "      <th></th>\n",
       "      <th>nbSyll</th>\n",
       "      <th>pron</th>\n",
       "      <th>origin</th>\n",
       "      <th>warning</th>\n",
       "      <th>remarques</th>\n",
       "      <th>POS</th>\n",
       "      <th>lineId</th>\n",
       "      <th>pageId</th>\n",
       "    </tr>\n",
       "  </thead>\n",
       "  <tbody>\n",
       "    <tr>\n",
       "      <th>9203</th>\n",
       "      <td>2</td>\n",
       "      <td>оaʹk_e_n</td>\n",
       "      <td>NaN</td>\n",
       "      <td>NaN</td>\n",
       "      <td>NaN</td>\n",
       "      <td>a.</td>\n",
       "      <td>5.0</td>\n",
       "      <td>149</td>\n",
       "    </tr>\n",
       "    <tr>\n",
       "      <th>11932</th>\n",
       "      <td>5</td>\n",
       "      <td>săbbătāʹrĭans</td>\n",
       "      <td>NaN</td>\n",
       "      <td>NaN</td>\n",
       "      <td>NaN</td>\n",
       "      <td>n.</td>\n",
       "      <td>3.0</td>\n",
       "      <td>187</td>\n",
       "    </tr>\n",
       "    <tr>\n",
       "      <th>6912</th>\n",
       "      <td>5</td>\n",
       "      <td>indĭʹſsŏlūble</td>\n",
       "      <td>L.</td>\n",
       "      <td>NaN</td>\n",
       "      <td>NaN</td>\n",
       "      <td>a.</td>\n",
       "      <td>33.0</td>\n",
       "      <td>117</td>\n",
       "    </tr>\n",
       "    <tr>\n",
       "      <th>6513</th>\n",
       "      <td>4</td>\n",
       "      <td>illāʹbŏrāte</td>\n",
       "      <td>L.</td>\n",
       "      <td>NaN</td>\n",
       "      <td>NaN</td>\n",
       "      <td>a.</td>\n",
       "      <td>68.0</td>\n",
       "      <td>111</td>\n",
       "    </tr>\n",
       "    <tr>\n",
       "      <th>831</th>\n",
       "      <td>2</td>\n",
       "      <td>ăſſuāʹge</td>\n",
       "      <td>NaN</td>\n",
       "      <td>NaN</td>\n",
       "      <td>NaN</td>\n",
       "      <td>v.</td>\n",
       "      <td>5.0</td>\n",
       "      <td>31</td>\n",
       "    </tr>\n",
       "  </tbody>\n",
       "</table>\n",
       "</div>"
      ],
      "text/plain": [
       "       nbSyll           pron origin warning remarques POS  lineId  pageId\n",
       "9203        2       оaʹk_e_n    NaN     NaN       NaN  a.     5.0     149\n",
       "11932       5  săbbătāʹrĭans    NaN     NaN       NaN  n.     3.0     187\n",
       "6912        5  indĭʹſsŏlūble     L.     NaN       NaN  a.    33.0     117\n",
       "6513        4    illāʹbŏrāte     L.     NaN       NaN  a.    68.0     111\n",
       "831         2       ăſſuāʹge    NaN     NaN       NaN  v.     5.0      31"
      ]
     },
     "execution_count": 73,
     "metadata": {},
     "output_type": "execute_result"
    }
   ],
   "source": [
    "# afficher à l'écran un échantillon du tableau\n",
    "dfDicoBuch.sample(n=5)"
   ]
  },
  {
   "cell_type": "code",
   "execution_count": 74,
   "metadata": {},
   "outputs": [
    {
     "data": {
      "text/html": [
       "<div>\n",
       "<style scoped>\n",
       "    .dataframe tbody tr th:only-of-type {\n",
       "        vertical-align: middle;\n",
       "    }\n",
       "\n",
       "    .dataframe tbody tr th {\n",
       "        vertical-align: top;\n",
       "    }\n",
       "\n",
       "    .dataframe thead th {\n",
       "        text-align: right;\n",
       "    }\n",
       "</style>\n",
       "<table border=\"1\" class=\"dataframe\">\n",
       "  <thead>\n",
       "    <tr style=\"text-align: right;\">\n",
       "      <th></th>\n",
       "      <th>char</th>\n",
       "      <th>occ</th>\n",
       "      <th>graph</th>\n",
       "    </tr>\n",
       "  </thead>\n",
       "  <tbody>\n",
       "    <tr>\n",
       "      <th>13</th>\n",
       "      <td>ā</td>\n",
       "      <td>2079</td>\n",
       "      <td>a</td>\n",
       "    </tr>\n",
       "    <tr>\n",
       "      <th>16</th>\n",
       "      <td>ŏ</td>\n",
       "      <td>2797</td>\n",
       "      <td>o</td>\n",
       "    </tr>\n",
       "    <tr>\n",
       "      <th>19</th>\n",
       "      <td>h</td>\n",
       "      <td>2383</td>\n",
       "      <td>h</td>\n",
       "    </tr>\n",
       "    <tr>\n",
       "      <th>38</th>\n",
       "      <td>k</td>\n",
       "      <td>717</td>\n",
       "      <td>k</td>\n",
       "    </tr>\n",
       "    <tr>\n",
       "      <th>1</th>\n",
       "      <td>ʹ</td>\n",
       "      <td>12725</td>\n",
       "      <td>NaN</td>\n",
       "    </tr>\n",
       "  </tbody>\n",
       "</table>\n",
       "</div>"
      ],
      "text/plain": [
       "   char    occ graph\n",
       "13    ā   2079     a\n",
       "16    ŏ   2797     o\n",
       "19    h   2383     h\n",
       "38    k    717     k\n",
       "1     ʹ  12725   NaN"
      ]
     },
     "execution_count": 74,
     "metadata": {},
     "output_type": "execute_result"
    }
   ],
   "source": [
    "dfDicoMapping.sample(n=5)"
   ]
  },
  {
   "cell_type": "markdown",
   "metadata": {},
   "source": [
    "#### Aucun caractère n'a plus d'une correspondance dans la table de mapping : "
   ]
  },
  {
   "cell_type": "code",
   "execution_count": 75,
   "metadata": {},
   "outputs": [
    {
     "data": {
      "text/plain": [
       "0"
      ]
     },
     "execution_count": 75,
     "metadata": {},
     "output_type": "execute_result"
    }
   ],
   "source": [
    "(dfDicoMapping['char'].value_counts()>1).sum()"
   ]
  },
  {
   "cell_type": "markdown",
   "metadata": {},
   "source": [
    "#### Transformation de la prononciation en mot"
   ]
  },
  {
   "cell_type": "code",
   "execution_count": 76,
   "metadata": {},
   "outputs": [],
   "source": [
    "# suppression des lignes avec un caractère n'ayant pas de correspondance\n",
    "dfMapping = dfDicoMapping[~dfDicoMapping['graph'].isna()].copy()"
   ]
  },
  {
   "cell_type": "code",
   "execution_count": 77,
   "metadata": {},
   "outputs": [],
   "source": [
    "def pronToMot(strBuch, dfMapping):\n",
    "    res = \"\"\n",
    "    \n",
    "    for charBuch in strBuch:\n",
    "        dfRowFinded = dfMapping[dfMapping['char']==charBuch]\n",
    "\n",
    "        if len(dfRowFinded==1):\n",
    "            res+=str(dfRowFinded.iloc[0]['graph'])\n",
    "        else:\n",
    "            res+=''\n",
    "\n",
    "    return res"
   ]
  },
  {
   "cell_type": "code",
   "execution_count": 78,
   "metadata": {},
   "outputs": [
    {
     "data": {
      "text/plain": [
       "'haughty'"
      ]
     },
     "execution_count": 78,
     "metadata": {},
     "output_type": "execute_result"
    }
   ],
   "source": [
    "## test\n",
    "pronToMot('hauʹ_gh_ty', dfMapping)"
   ]
  },
  {
   "cell_type": "code",
   "execution_count": 79,
   "metadata": {},
   "outputs": [],
   "source": [
    "dfDicoBuchMot = dfDicoBuch.sample(n=1000).copy()\n",
    "\n",
    "dfDicoBuchMot['motVedette'] = dfDicoBuchMot.apply(lambda x: pronToMot(x['pron'], dfMapping),1)"
   ]
  },
  {
   "cell_type": "code",
   "execution_count": 82,
   "metadata": {},
   "outputs": [
    {
     "data": {
      "text/html": [
       "<div>\n",
       "<style scoped>\n",
       "    .dataframe tbody tr th:only-of-type {\n",
       "        vertical-align: middle;\n",
       "    }\n",
       "\n",
       "    .dataframe tbody tr th {\n",
       "        vertical-align: top;\n",
       "    }\n",
       "\n",
       "    .dataframe thead th {\n",
       "        text-align: right;\n",
       "    }\n",
       "</style>\n",
       "<table border=\"1\" class=\"dataframe\">\n",
       "  <thead>\n",
       "    <tr style=\"text-align: right;\">\n",
       "      <th></th>\n",
       "      <th>nbSyll</th>\n",
       "      <th>pron</th>\n",
       "      <th>origin</th>\n",
       "      <th>warning</th>\n",
       "      <th>remarques</th>\n",
       "      <th>POS</th>\n",
       "      <th>lineId</th>\n",
       "      <th>pageId</th>\n",
       "      <th>motVedette</th>\n",
       "    </tr>\n",
       "  </thead>\n",
       "  <tbody>\n",
       "    <tr>\n",
       "      <th>7146</th>\n",
       "      <td>5</td>\n",
       "      <td>inſtăbĭʹlĭty</td>\n",
       "      <td>L.</td>\n",
       "      <td>NaN</td>\n",
       "      <td>NaN</td>\n",
       "      <td>n.</td>\n",
       "      <td>52.0</td>\n",
       "      <td>120</td>\n",
       "      <td>instability</td>\n",
       "    </tr>\n",
       "    <tr>\n",
       "      <th>13240</th>\n",
       "      <td>4</td>\n",
       "      <td>sŭblieutĕʹnănt</td>\n",
       "      <td>NaN</td>\n",
       "      <td>NaN</td>\n",
       "      <td>NaN</td>\n",
       "      <td>n.</td>\n",
       "      <td>57.0</td>\n",
       "      <td>205</td>\n",
       "      <td>sublieutenant</td>\n",
       "    </tr>\n",
       "    <tr>\n",
       "      <th>13536</th>\n",
       "      <td>2</td>\n",
       "      <td>taʹbles</td>\n",
       "      <td>NaN</td>\n",
       "      <td>NaN</td>\n",
       "      <td>NaN</td>\n",
       "      <td>n.</td>\n",
       "      <td>8.0</td>\n",
       "      <td>209</td>\n",
       "      <td>tables</td>\n",
       "    </tr>\n",
       "    <tr>\n",
       "      <th>6722</th>\n",
       "      <td>4</td>\n",
       "      <td>impūʹtătive</td>\n",
       "      <td>NaN</td>\n",
       "      <td>NaN</td>\n",
       "      <td>NaN</td>\n",
       "      <td>a.</td>\n",
       "      <td>61.0</td>\n",
       "      <td>114</td>\n",
       "      <td>imputative</td>\n",
       "    </tr>\n",
       "    <tr>\n",
       "      <th>8516</th>\n",
       "      <td>4</td>\n",
       "      <td>mĕtŏʹny̆my</td>\n",
       "      <td>NaN</td>\n",
       "      <td>NaN</td>\n",
       "      <td>NaN</td>\n",
       "      <td>n.</td>\n",
       "      <td>65.0</td>\n",
       "      <td>139</td>\n",
       "      <td>metonyomy</td>\n",
       "    </tr>\n",
       "    <tr>\n",
       "      <th>...</th>\n",
       "      <td>...</td>\n",
       "      <td>...</td>\n",
       "      <td>...</td>\n",
       "      <td>...</td>\n",
       "      <td>...</td>\n",
       "      <td>...</td>\n",
       "      <td>...</td>\n",
       "      <td>...</td>\n",
       "      <td>...</td>\n",
       "    </tr>\n",
       "    <tr>\n",
       "      <th>7162</th>\n",
       "      <td>2</td>\n",
       "      <td>inſtrŭʹct</td>\n",
       "      <td>L.</td>\n",
       "      <td>NaN</td>\n",
       "      <td>NaN</td>\n",
       "      <td>v.</td>\n",
       "      <td>68.0</td>\n",
       "      <td>120</td>\n",
       "      <td>instruct</td>\n",
       "    </tr>\n",
       "    <tr>\n",
       "      <th>7253</th>\n",
       "      <td>3</td>\n",
       "      <td>intĕʹrprĕt</td>\n",
       "      <td>L.</td>\n",
       "      <td>NaN</td>\n",
       "      <td>NaN</td>\n",
       "      <td>v.</td>\n",
       "      <td>15.0</td>\n",
       "      <td>122</td>\n",
       "      <td>interpret</td>\n",
       "    </tr>\n",
       "    <tr>\n",
       "      <th>5338</th>\n",
       "      <td>1</td>\n",
       "      <td>frĭth</td>\n",
       "      <td>NaN</td>\n",
       "      <td>NaN</td>\n",
       "      <td>NaN</td>\n",
       "      <td>n.</td>\n",
       "      <td>69.0</td>\n",
       "      <td>93</td>\n",
       "      <td>frith</td>\n",
       "    </tr>\n",
       "    <tr>\n",
       "      <th>9665</th>\n",
       "      <td>2</td>\n",
       "      <td>păʹmphlet</td>\n",
       "      <td>NaN</td>\n",
       "      <td>NaN</td>\n",
       "      <td>NaN</td>\n",
       "      <td>n.</td>\n",
       "      <td>57.0</td>\n",
       "      <td>155</td>\n",
       "      <td>pamphlet</td>\n",
       "    </tr>\n",
       "    <tr>\n",
       "      <th>2742</th>\n",
       "      <td>5</td>\n",
       "      <td>conſtĕllāʹtĭon</td>\n",
       "      <td>NaN</td>\n",
       "      <td>NaN</td>\n",
       "      <td>NaN</td>\n",
       "      <td>n.</td>\n",
       "      <td>49.0</td>\n",
       "      <td>57</td>\n",
       "      <td>constellation</td>\n",
       "    </tr>\n",
       "  </tbody>\n",
       "</table>\n",
       "<p>1000 rows × 9 columns</p>\n",
       "</div>"
      ],
      "text/plain": [
       "       nbSyll            pron origin warning remarques POS  lineId  pageId  \\\n",
       "7146        5    inſtăbĭʹlĭty     L.     NaN       NaN  n.    52.0     120   \n",
       "13240       4  sŭblieutĕʹnănt    NaN     NaN       NaN  n.    57.0     205   \n",
       "13536       2         taʹbles    NaN     NaN       NaN  n.     8.0     209   \n",
       "6722        4     impūʹtătive    NaN     NaN       NaN  a.    61.0     114   \n",
       "8516        4      mĕtŏʹny̆my    NaN     NaN       NaN  n.    65.0     139   \n",
       "...       ...             ...    ...     ...       ...  ..     ...     ...   \n",
       "7162        2       inſtrŭʹct     L.     NaN       NaN  v.    68.0     120   \n",
       "7253        3      intĕʹrprĕt     L.     NaN       NaN  v.    15.0     122   \n",
       "5338        1           frĭth    NaN     NaN       NaN  n.    69.0      93   \n",
       "9665        2       păʹmphlet    NaN     NaN       NaN  n.    57.0     155   \n",
       "2742        5  conſtĕllāʹtĭon    NaN     NaN       NaN  n.    49.0      57   \n",
       "\n",
       "          motVedette  \n",
       "7146     instability  \n",
       "13240  sublieutenant  \n",
       "13536         tables  \n",
       "6722      imputative  \n",
       "8516       metonyomy  \n",
       "...              ...  \n",
       "7162        instruct  \n",
       "7253       interpret  \n",
       "5338           frith  \n",
       "9665        pamphlet  \n",
       "2742   constellation  \n",
       "\n",
       "[1000 rows x 9 columns]"
      ]
     },
     "execution_count": 82,
     "metadata": {},
     "output_type": "execute_result"
    }
   ],
   "source": [
    "dfDicoBuchMot"
   ]
  },
  {
   "cell_type": "code",
   "execution_count": 83,
   "metadata": {},
   "outputs": [],
   "source": [
    "cheminDicoBuchMot = \"./../data/dictionary/DicoMotVedette.csv\"\n",
    "dfDicoBuchMot.to_csv(cheminDicoBuchMot, sep=\";\", encoding=\"utf8\", index=False )"
   ]
  },
  {
   "cell_type": "markdown",
   "metadata": {},
   "source": [
    "### 2) une colonne Sampa et une colonne Ipa à partir des mots vedettes obtenus (transformation/croisement de données) en utilisant ./../data/dataframe/BigiRichSample.csv"
   ]
  },
  {
   "cell_type": "markdown",
   "metadata": {},
   "source": [
    "#### 2) i. isoler les mots de Buchanan qui n'existent pas dans Bigi. Tenter de comprendre les différentes causes et tenter d'expliquer comment résoudre les différents problèmes (bonus)"
   ]
  },
  {
   "cell_type": "code",
   "execution_count": 67,
   "metadata": {},
   "outputs": [
    {
     "data": {
      "text/html": [
       "<div>\n",
       "<style scoped>\n",
       "    .dataframe tbody tr th:only-of-type {\n",
       "        vertical-align: middle;\n",
       "    }\n",
       "\n",
       "    .dataframe tbody tr th {\n",
       "        vertical-align: top;\n",
       "    }\n",
       "\n",
       "    .dataframe thead th {\n",
       "        text-align: right;\n",
       "    }\n",
       "</style>\n",
       "<table border=\"1\" class=\"dataframe\">\n",
       "  <thead>\n",
       "    <tr style=\"text-align: right;\">\n",
       "      <th></th>\n",
       "      <th>hwd</th>\n",
       "      <th>pronSampa</th>\n",
       "    </tr>\n",
       "  </thead>\n",
       "  <tbody>\n",
       "    <tr>\n",
       "      <th>0</th>\n",
       "      <td>a</td>\n",
       "      <td>@</td>\n",
       "    </tr>\n",
       "    <tr>\n",
       "      <th>1</th>\n",
       "      <td>a(2)</td>\n",
       "      <td>eI</td>\n",
       "    </tr>\n",
       "    <tr>\n",
       "      <th>2</th>\n",
       "      <td>a'ready</td>\n",
       "      <td>@ r\\ E d i:</td>\n",
       "    </tr>\n",
       "    <tr>\n",
       "      <th>3</th>\n",
       "      <td>a's</td>\n",
       "      <td>eI z</td>\n",
       "    </tr>\n",
       "    <tr>\n",
       "      <th>4</th>\n",
       "      <td>a.</td>\n",
       "      <td>eI</td>\n",
       "    </tr>\n",
       "  </tbody>\n",
       "</table>\n",
       "</div>"
      ],
      "text/plain": [
       "       hwd    pronSampa\n",
       "0        a            @\n",
       "1     a(2)           eI\n",
       "2  a'ready  @ r\\ E d i:\n",
       "3      a's         eI z\n",
       "4       a.           eI"
      ]
     },
     "execution_count": 67,
     "metadata": {},
     "output_type": "execute_result"
    }
   ],
   "source": [
    "cheminDuDicoBigi = \"./../data/dictionary/2015_Bigi-B.dict\" \n",
    "\n",
    "# ouvrir une matric exotique\n",
    "#dfDicoBigi = pd.read_csv(cheminDuDicoBigi, delimiter=\" [] \", encoding=\"utf8\")\n",
    "\n",
    "dfDicoBigi = pd.read_csv(cheminDuDicoBigi, delimiter=\" \\[\\] \", encoding=\"utf8\", engine='python', names=['hwd','pronSampa'], skiprows=8 )\n",
    "\n",
    "# afficher à l'écran un échantillon du tableau\n",
    "dfDicoBigi.head(n=5)"
   ]
  }
 ],
 "metadata": {
  "kernelspec": {
   "display_name": "Python 3",
   "language": "python",
   "name": "python3"
  },
  "language_info": {
   "codemirror_mode": {
    "name": "ipython",
    "version": 3
   },
   "file_extension": ".py",
   "mimetype": "text/x-python",
   "name": "python",
   "nbconvert_exporter": "python",
   "pygments_lexer": "ipython3",
   "version": "3.7.6"
  }
 },
 "nbformat": 4,
 "nbformat_minor": 4
}
