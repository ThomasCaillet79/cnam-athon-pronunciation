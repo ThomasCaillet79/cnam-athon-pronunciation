{
 "cells": [
  {
   "cell_type": "code",
   "execution_count": 1,
   "metadata": {},
   "outputs": [],
   "source": [
    "import numpy as np\n",
    "import pandas as pd"
   ]
  },
  {
   "cell_type": "markdown",
   "metadata": {},
   "source": [
    "### 1) une colonne motVedette (transformation/simplification de la prononciation d'origine) en utilisant le mapping du fichier Buchanan_PronChar_counts.csv"
   ]
  },
  {
   "cell_type": "markdown",
   "metadata": {},
   "source": [
    "#### Import des données"
   ]
  },
  {
   "cell_type": "code",
   "execution_count": 2,
   "metadata": {},
   "outputs": [],
   "source": [
    "# préciser le chemin du fichier à lire\n",
    "\n",
    "cheminDuFichierDictionnaire = \"./../data/dictionary/1757_Buchanan-J.csv\"\n",
    "cheminDuFichierMapping = \"./../data/dictionary/Buchanan_PronChar_counts.csv\" \n",
    "\n",
    "# demander à pandas de lire le fichier et garder ce tableau accessible dans une variable\n",
    "dfDicoBuch = pd.read_csv(cheminDuFichierDictionnaire, delimiter=\";\", encoding=\"utf8\")\n",
    "dfDicoMapping = pd.read_csv(cheminDuFichierMapping, delimiter=\";\", encoding=\"utf8\")"
   ]
  },
  {
   "cell_type": "code",
   "execution_count": 73,
   "metadata": {},
   "outputs": [
    {
     "data": {
      "text/html": [
       "<div>\n",
       "<style scoped>\n",
       "    .dataframe tbody tr th:only-of-type {\n",
       "        vertical-align: middle;\n",
       "    }\n",
       "\n",
       "    .dataframe tbody tr th {\n",
       "        vertical-align: top;\n",
       "    }\n",
       "\n",
       "    .dataframe thead th {\n",
       "        text-align: right;\n",
       "    }\n",
       "</style>\n",
       "<table border=\"1\" class=\"dataframe\">\n",
       "  <thead>\n",
       "    <tr style=\"text-align: right;\">\n",
       "      <th></th>\n",
       "      <th>nbSyll</th>\n",
       "      <th>pron</th>\n",
       "      <th>origin</th>\n",
       "      <th>warning</th>\n",
       "      <th>remarques</th>\n",
       "      <th>POS</th>\n",
       "      <th>lineId</th>\n",
       "      <th>pageId</th>\n",
       "    </tr>\n",
       "  </thead>\n",
       "  <tbody>\n",
       "    <tr>\n",
       "      <th>9203</th>\n",
       "      <td>2</td>\n",
       "      <td>оaʹk_e_n</td>\n",
       "      <td>NaN</td>\n",
       "      <td>NaN</td>\n",
       "      <td>NaN</td>\n",
       "      <td>a.</td>\n",
       "      <td>5.0</td>\n",
       "      <td>149</td>\n",
       "    </tr>\n",
       "    <tr>\n",
       "      <th>11932</th>\n",
       "      <td>5</td>\n",
       "      <td>săbbătāʹrĭans</td>\n",
       "      <td>NaN</td>\n",
       "      <td>NaN</td>\n",
       "      <td>NaN</td>\n",
       "      <td>n.</td>\n",
       "      <td>3.0</td>\n",
       "      <td>187</td>\n",
       "    </tr>\n",
       "    <tr>\n",
       "      <th>6912</th>\n",
       "      <td>5</td>\n",
       "      <td>indĭʹſsŏlūble</td>\n",
       "      <td>L.</td>\n",
       "      <td>NaN</td>\n",
       "      <td>NaN</td>\n",
       "      <td>a.</td>\n",
       "      <td>33.0</td>\n",
       "      <td>117</td>\n",
       "    </tr>\n",
       "    <tr>\n",
       "      <th>6513</th>\n",
       "      <td>4</td>\n",
       "      <td>illāʹbŏrāte</td>\n",
       "      <td>L.</td>\n",
       "      <td>NaN</td>\n",
       "      <td>NaN</td>\n",
       "      <td>a.</td>\n",
       "      <td>68.0</td>\n",
       "      <td>111</td>\n",
       "    </tr>\n",
       "    <tr>\n",
       "      <th>831</th>\n",
       "      <td>2</td>\n",
       "      <td>ăſſuāʹge</td>\n",
       "      <td>NaN</td>\n",
       "      <td>NaN</td>\n",
       "      <td>NaN</td>\n",
       "      <td>v.</td>\n",
       "      <td>5.0</td>\n",
       "      <td>31</td>\n",
       "    </tr>\n",
       "  </tbody>\n",
       "</table>\n",
       "</div>"
      ],
      "text/plain": [
       "       nbSyll           pron origin warning remarques POS  lineId  pageId\n",
       "9203        2       оaʹk_e_n    NaN     NaN       NaN  a.     5.0     149\n",
       "11932       5  săbbătāʹrĭans    NaN     NaN       NaN  n.     3.0     187\n",
       "6912        5  indĭʹſsŏlūble     L.     NaN       NaN  a.    33.0     117\n",
       "6513        4    illāʹbŏrāte     L.     NaN       NaN  a.    68.0     111\n",
       "831         2       ăſſuāʹge    NaN     NaN       NaN  v.     5.0      31"
      ]
     },
     "execution_count": 73,
     "metadata": {},
     "output_type": "execute_result"
    }
   ],
   "source": [
    "# afficher à l'écran un échantillon du tableau\n",
    "dfDicoBuch.sample(n=5)"
   ]
  },
  {
   "cell_type": "code",
   "execution_count": 74,
   "metadata": {},
   "outputs": [
    {
     "data": {
      "text/html": [
       "<div>\n",
       "<style scoped>\n",
       "    .dataframe tbody tr th:only-of-type {\n",
       "        vertical-align: middle;\n",
       "    }\n",
       "\n",
       "    .dataframe tbody tr th {\n",
       "        vertical-align: top;\n",
       "    }\n",
       "\n",
       "    .dataframe thead th {\n",
       "        text-align: right;\n",
       "    }\n",
       "</style>\n",
       "<table border=\"1\" class=\"dataframe\">\n",
       "  <thead>\n",
       "    <tr style=\"text-align: right;\">\n",
       "      <th></th>\n",
       "      <th>char</th>\n",
       "      <th>occ</th>\n",
       "      <th>graph</th>\n",
       "    </tr>\n",
       "  </thead>\n",
       "  <tbody>\n",
       "    <tr>\n",
       "      <th>13</th>\n",
       "      <td>ā</td>\n",
       "      <td>2079</td>\n",
       "      <td>a</td>\n",
       "    </tr>\n",
       "    <tr>\n",
       "      <th>16</th>\n",
       "      <td>ŏ</td>\n",
       "      <td>2797</td>\n",
       "      <td>o</td>\n",
       "    </tr>\n",
       "    <tr>\n",
       "      <th>19</th>\n",
       "      <td>h</td>\n",
       "      <td>2383</td>\n",
       "      <td>h</td>\n",
       "    </tr>\n",
       "    <tr>\n",
       "      <th>38</th>\n",
       "      <td>k</td>\n",
       "      <td>717</td>\n",
       "      <td>k</td>\n",
       "    </tr>\n",
       "    <tr>\n",
       "      <th>1</th>\n",
       "      <td>ʹ</td>\n",
       "      <td>12725</td>\n",
       "      <td>NaN</td>\n",
       "    </tr>\n",
       "  </tbody>\n",
       "</table>\n",
       "</div>"
      ],
      "text/plain": [
       "   char    occ graph\n",
       "13    ā   2079     a\n",
       "16    ŏ   2797     o\n",
       "19    h   2383     h\n",
       "38    k    717     k\n",
       "1     ʹ  12725   NaN"
      ]
     },
     "execution_count": 74,
     "metadata": {},
     "output_type": "execute_result"
    }
   ],
   "source": [
    "dfDicoMapping.sample(n=5)"
   ]
  },
  {
   "cell_type": "markdown",
   "metadata": {},
   "source": [
    "#### Aucun caractère n'a plus d'une correspondance dans la table de mapping : "
   ]
  },
  {
   "cell_type": "code",
   "execution_count": 3,
   "metadata": {},
   "outputs": [
    {
     "data": {
      "text/plain": [
       "0"
      ]
     },
     "execution_count": 3,
     "metadata": {},
     "output_type": "execute_result"
    }
   ],
   "source": [
    "(dfDicoMapping['char'].value_counts()>1).sum()"
   ]
  },
  {
   "cell_type": "markdown",
   "metadata": {},
   "source": [
    "#### Transformation de la prononciation en mot"
   ]
  },
  {
   "cell_type": "code",
   "execution_count": 4,
   "metadata": {},
   "outputs": [],
   "source": [
    "# suppression des lignes avec un caractère n'ayant pas de correspondance\n",
    "dfMapping = dfDicoMapping[~dfDicoMapping['graph'].isna()].copy()"
   ]
  },
  {
   "cell_type": "code",
   "execution_count": 5,
   "metadata": {},
   "outputs": [],
   "source": [
    "def pronToMot(strBuch, df_mapping):\n",
    "    res = \"\"\n",
    "    \n",
    "    for charBuch in strBuch:\n",
    "        dfRowFinded = df_mapping[df_mapping['char']==charBuch]\n",
    "\n",
    "        if len(dfRowFinded==1):\n",
    "            res+=str(dfRowFinded.iloc[0]['graph'])\n",
    "        else:\n",
    "            res+=''\n",
    "\n",
    "    return res"
   ]
  },
  {
   "cell_type": "code",
   "execution_count": 6,
   "metadata": {},
   "outputs": [
    {
     "data": {
      "text/plain": [
       "'haughty'"
      ]
     },
     "execution_count": 6,
     "metadata": {},
     "output_type": "execute_result"
    }
   ],
   "source": [
    "## test\n",
    "pronToMot('hauʹ_gh_ty', dfMapping)"
   ]
  },
  {
   "cell_type": "code",
   "execution_count": 10,
   "metadata": {},
   "outputs": [],
   "source": [
    "dfDicoBuchMot = dfDicoBuch.copy()\n",
    "\n",
    "dfDicoBuchMot['motVedette'] = dfDicoBuchMot.apply(lambda x: pronToMot(x['pron'], dfMapping),1)"
   ]
  },
  {
   "cell_type": "code",
   "execution_count": 11,
   "metadata": {},
   "outputs": [
    {
     "data": {
      "text/html": [
       "<div>\n",
       "<style scoped>\n",
       "    .dataframe tbody tr th:only-of-type {\n",
       "        vertical-align: middle;\n",
       "    }\n",
       "\n",
       "    .dataframe tbody tr th {\n",
       "        vertical-align: top;\n",
       "    }\n",
       "\n",
       "    .dataframe thead th {\n",
       "        text-align: right;\n",
       "    }\n",
       "</style>\n",
       "<table border=\"1\" class=\"dataframe\">\n",
       "  <thead>\n",
       "    <tr style=\"text-align: right;\">\n",
       "      <th></th>\n",
       "      <th>nbSyll</th>\n",
       "      <th>pron</th>\n",
       "      <th>origin</th>\n",
       "      <th>warning</th>\n",
       "      <th>remarques</th>\n",
       "      <th>POS</th>\n",
       "      <th>lineId</th>\n",
       "      <th>pageId</th>\n",
       "      <th>motVedette</th>\n",
       "    </tr>\n",
       "  </thead>\n",
       "  <tbody>\n",
       "    <tr>\n",
       "      <th>0</th>\n",
       "      <td>3</td>\n",
       "      <td>aʹbăcus</td>\n",
       "      <td>NaN</td>\n",
       "      <td>NaN</td>\n",
       "      <td>NaN</td>\n",
       "      <td>n.</td>\n",
       "      <td>2.0</td>\n",
       "      <td>19</td>\n",
       "      <td>abacus</td>\n",
       "    </tr>\n",
       "    <tr>\n",
       "      <th>1</th>\n",
       "      <td>2</td>\n",
       "      <td>ăbăʹft</td>\n",
       "      <td>NaN</td>\n",
       "      <td>NaN</td>\n",
       "      <td>NaN</td>\n",
       "      <td>p.</td>\n",
       "      <td>3.0</td>\n",
       "      <td>19</td>\n",
       "      <td>abaft</td>\n",
       "    </tr>\n",
       "    <tr>\n",
       "      <th>2</th>\n",
       "      <td>3</td>\n",
       "      <td>ăbaiʹſănce</td>\n",
       "      <td>F.</td>\n",
       "      <td>NaN</td>\n",
       "      <td>NaN</td>\n",
       "      <td>n.</td>\n",
       "      <td>4.0</td>\n",
       "      <td>19</td>\n",
       "      <td>abaisance</td>\n",
       "    </tr>\n",
       "    <tr>\n",
       "      <th>3</th>\n",
       "      <td>3</td>\n",
       "      <td>ābăʹndon</td>\n",
       "      <td>F.</td>\n",
       "      <td>NaN</td>\n",
       "      <td>NaN</td>\n",
       "      <td>v.</td>\n",
       "      <td>5.0</td>\n",
       "      <td>19</td>\n",
       "      <td>abandon</td>\n",
       "    </tr>\n",
       "    <tr>\n",
       "      <th>4</th>\n",
       "      <td>4</td>\n",
       "      <td>ābăʹndŏned</td>\n",
       "      <td>NaN</td>\n",
       "      <td>NaN</td>\n",
       "      <td>NaN</td>\n",
       "      <td>a.</td>\n",
       "      <td>6.0</td>\n",
       "      <td>19</td>\n",
       "      <td>abandoned</td>\n",
       "    </tr>\n",
       "    <tr>\n",
       "      <th>...</th>\n",
       "      <td>...</td>\n",
       "      <td>...</td>\n",
       "      <td>...</td>\n",
       "      <td>...</td>\n",
       "      <td>...</td>\n",
       "      <td>...</td>\n",
       "      <td>...</td>\n",
       "      <td>...</td>\n",
       "      <td>...</td>\n",
       "    </tr>\n",
       "    <tr>\n",
       "      <th>15795</th>\n",
       "      <td>4</td>\n",
       "      <td>zōŏʹgrăphy</td>\n",
       "      <td>G.</td>\n",
       "      <td>NaN</td>\n",
       "      <td>NaN</td>\n",
       "      <td>n.</td>\n",
       "      <td>19.0</td>\n",
       "      <td>241</td>\n",
       "      <td>zoography</td>\n",
       "    </tr>\n",
       "    <tr>\n",
       "      <th>15796</th>\n",
       "      <td>4</td>\n",
       "      <td>zōŏʹphytès</td>\n",
       "      <td>G.</td>\n",
       "      <td>NaN</td>\n",
       "      <td>NaN</td>\n",
       "      <td>n.</td>\n",
       "      <td>20.0</td>\n",
       "      <td>241</td>\n",
       "      <td>zoophytes</td>\n",
       "    </tr>\n",
       "    <tr>\n",
       "      <th>15797</th>\n",
       "      <td>4</td>\n",
       "      <td>zōŏʹphŏric</td>\n",
       "      <td>G.</td>\n",
       "      <td>NaN</td>\n",
       "      <td>NaN</td>\n",
       "      <td>n.</td>\n",
       "      <td>21.0</td>\n",
       "      <td>241</td>\n",
       "      <td>zoophoric</td>\n",
       "    </tr>\n",
       "    <tr>\n",
       "      <th>15798</th>\n",
       "      <td>4</td>\n",
       "      <td>zōŏʹtŏmiſt</td>\n",
       "      <td>G.</td>\n",
       "      <td>NaN</td>\n",
       "      <td>NaN</td>\n",
       "      <td>n.</td>\n",
       "      <td>22.0</td>\n",
       "      <td>241</td>\n",
       "      <td>zootomist</td>\n",
       "    </tr>\n",
       "    <tr>\n",
       "      <th>15799</th>\n",
       "      <td>3</td>\n",
       "      <td>zŏʹtĭcā</td>\n",
       "      <td>G.</td>\n",
       "      <td>NaN</td>\n",
       "      <td>NaN</td>\n",
       "      <td>n.</td>\n",
       "      <td>23.0</td>\n",
       "      <td>241</td>\n",
       "      <td>zotica</td>\n",
       "    </tr>\n",
       "  </tbody>\n",
       "</table>\n",
       "<p>15800 rows × 9 columns</p>\n",
       "</div>"
      ],
      "text/plain": [
       "       nbSyll        pron origin warning remarques POS  lineId  pageId  \\\n",
       "0           3     aʹbăcus    NaN     NaN       NaN  n.     2.0      19   \n",
       "1           2      ăbăʹft    NaN     NaN       NaN  p.     3.0      19   \n",
       "2           3  ăbaiʹſănce     F.     NaN       NaN  n.     4.0      19   \n",
       "3           3    ābăʹndon     F.     NaN       NaN  v.     5.0      19   \n",
       "4           4  ābăʹndŏned    NaN     NaN       NaN  a.     6.0      19   \n",
       "...       ...         ...    ...     ...       ...  ..     ...     ...   \n",
       "15795       4  zōŏʹgrăphy     G.     NaN       NaN  n.    19.0     241   \n",
       "15796       4  zōŏʹphytès     G.     NaN       NaN  n.    20.0     241   \n",
       "15797       4  zōŏʹphŏric     G.     NaN       NaN  n.    21.0     241   \n",
       "15798       4  zōŏʹtŏmiſt     G.     NaN       NaN  n.    22.0     241   \n",
       "15799       3     zŏʹtĭcā     G.     NaN       NaN  n.    23.0     241   \n",
       "\n",
       "      motVedette  \n",
       "0         abacus  \n",
       "1          abaft  \n",
       "2      abaisance  \n",
       "3        abandon  \n",
       "4      abandoned  \n",
       "...          ...  \n",
       "15795  zoography  \n",
       "15796  zoophytes  \n",
       "15797  zoophoric  \n",
       "15798  zootomist  \n",
       "15799     zotica  \n",
       "\n",
       "[15800 rows x 9 columns]"
      ]
     },
     "execution_count": 11,
     "metadata": {},
     "output_type": "execute_result"
    }
   ],
   "source": [
    "dfDicoBuchMot"
   ]
  },
  {
   "cell_type": "code",
   "execution_count": 12,
   "metadata": {},
   "outputs": [],
   "source": [
    "cheminDicoBuchMot = \"./../data/dictionary/DicoMotVedette.csv\"\n",
    "dfDicoBuchMot.to_csv(cheminDicoBuchMot, sep=\";\", encoding=\"utf8\", index=False )"
   ]
  },
  {
   "cell_type": "markdown",
   "metadata": {},
   "source": [
    "### 2) une colonne Sampa et une colonne Ipa à partir des mots vedettes obtenus (transformation/croisement de données) en utilisant ./../data/dataframe/BigiRich<s>Sample</s>.csv"
   ]
  },
  {
   "cell_type": "code",
   "execution_count": 13,
   "metadata": {},
   "outputs": [],
   "source": [
    "pathDicoBigiRich = \"./../data/dataframe/BigiRich.csv\"\n",
    "dfDicoBigiRich = pd.read_csv(pathDicoBigiRich, delimiter=\";\", encoding=\"utf8\")"
   ]
  },
  {
   "cell_type": "code",
   "execution_count": 15,
   "metadata": {},
   "outputs": [
    {
     "data": {
      "text/html": [
       "<div>\n",
       "<style scoped>\n",
       "    .dataframe tbody tr th:only-of-type {\n",
       "        vertical-align: middle;\n",
       "    }\n",
       "\n",
       "    .dataframe tbody tr th {\n",
       "        vertical-align: top;\n",
       "    }\n",
       "\n",
       "    .dataframe thead th {\n",
       "        text-align: right;\n",
       "    }\n",
       "</style>\n",
       "<table border=\"1\" class=\"dataframe\">\n",
       "  <thead>\n",
       "    <tr style=\"text-align: right;\">\n",
       "      <th></th>\n",
       "      <th>hwd</th>\n",
       "      <th>pronSampa</th>\n",
       "      <th>ipa</th>\n",
       "    </tr>\n",
       "  </thead>\n",
       "  <tbody>\n",
       "    <tr>\n",
       "      <th>44387</th>\n",
       "      <td>galant</td>\n",
       "      <td>g A l @ n t</td>\n",
       "      <td>gɑlənt</td>\n",
       "    </tr>\n",
       "    <tr>\n",
       "      <th>70993</th>\n",
       "      <td>mackley</td>\n",
       "      <td>m { k l i:</td>\n",
       "      <td>mækliː</td>\n",
       "    </tr>\n",
       "    <tr>\n",
       "      <th>10138</th>\n",
       "      <td>berhow</td>\n",
       "      <td>b 3:r h @U</td>\n",
       "      <td>bɜ:rhoʊ</td>\n",
       "    </tr>\n",
       "    <tr>\n",
       "      <th>123037</th>\n",
       "      <td>vanausdall</td>\n",
       "      <td>v { n aU s d @ l</td>\n",
       "      <td>væn?sdəl</td>\n",
       "    </tr>\n",
       "    <tr>\n",
       "      <th>52546</th>\n",
       "      <td>hemorrhage</td>\n",
       "      <td>h E m 3:r i dZ</td>\n",
       "      <td>hɛmɜ:ri?</td>\n",
       "    </tr>\n",
       "    <tr>\n",
       "      <th>5082</th>\n",
       "      <td>ariana</td>\n",
       "      <td>A r\\ i: { n @</td>\n",
       "      <td>ɑɹiːænə</td>\n",
       "    </tr>\n",
       "    <tr>\n",
       "      <th>93148</th>\n",
       "      <td>providing</td>\n",
       "      <td>p r\\ @ v aI 4 i N</td>\n",
       "      <td>pɹəv?ɾiŋ</td>\n",
       "    </tr>\n",
       "    <tr>\n",
       "      <th>15382</th>\n",
       "      <td>built-in</td>\n",
       "      <td>b I l t i n</td>\n",
       "      <td>bɪltin</td>\n",
       "    </tr>\n",
       "    <tr>\n",
       "      <th>121218</th>\n",
       "      <td>unashamedly</td>\n",
       "      <td>V n @ S eI m @ d l i:</td>\n",
       "      <td>ʌnəʃ?mədliː</td>\n",
       "    </tr>\n",
       "    <tr>\n",
       "      <th>4080</th>\n",
       "      <td>anscom</td>\n",
       "      <td>@ n s k A m</td>\n",
       "      <td>ənskɑm</td>\n",
       "    </tr>\n",
       "  </tbody>\n",
       "</table>\n",
       "</div>"
      ],
      "text/plain": [
       "                hwd              pronSampa          ipa\n",
       "44387        galant            g A l @ n t       gɑlənt\n",
       "70993       mackley             m { k l i:       mækliː\n",
       "10138        berhow             b 3:r h @U      bɜ:rhoʊ\n",
       "123037   vanausdall       v { n aU s d @ l     væn?sdəl\n",
       "52546    hemorrhage         h E m 3:r i dZ     hɛmɜ:ri?\n",
       "5082         ariana          A r\\ i: { n @      ɑɹiːænə\n",
       "93148     providing      p r\\ @ v aI 4 i N     pɹəv?ɾiŋ\n",
       "15382      built-in            b I l t i n       bɪltin\n",
       "121218  unashamedly  V n @ S eI m @ d l i:  ʌnəʃ?mədliː\n",
       "4080         anscom            @ n s k A m       ənskɑm"
      ]
     },
     "execution_count": 15,
     "metadata": {},
     "output_type": "execute_result"
    }
   ],
   "source": [
    "dfDicoBigiRich.sample(n=10)"
   ]
  },
  {
   "cell_type": "code",
   "execution_count": 17,
   "metadata": {},
   "outputs": [
    {
     "data": {
      "text/html": [
       "<div>\n",
       "<style scoped>\n",
       "    .dataframe tbody tr th:only-of-type {\n",
       "        vertical-align: middle;\n",
       "    }\n",
       "\n",
       "    .dataframe tbody tr th {\n",
       "        vertical-align: top;\n",
       "    }\n",
       "\n",
       "    .dataframe thead th {\n",
       "        text-align: right;\n",
       "    }\n",
       "</style>\n",
       "<table border=\"1\" class=\"dataframe\">\n",
       "  <thead>\n",
       "    <tr style=\"text-align: right;\">\n",
       "      <th></th>\n",
       "      <th>nbSyll</th>\n",
       "      <th>pron</th>\n",
       "      <th>origin</th>\n",
       "      <th>warning</th>\n",
       "      <th>remarques</th>\n",
       "      <th>POS</th>\n",
       "      <th>lineId</th>\n",
       "      <th>pageId</th>\n",
       "      <th>hwd</th>\n",
       "      <th>pronSampa</th>\n",
       "      <th>ipa</th>\n",
       "    </tr>\n",
       "  </thead>\n",
       "  <tbody>\n",
       "    <tr>\n",
       "      <th>0</th>\n",
       "      <td>3</td>\n",
       "      <td>aʹbăcus</td>\n",
       "      <td>NaN</td>\n",
       "      <td>NaN</td>\n",
       "      <td>NaN</td>\n",
       "      <td>n.</td>\n",
       "      <td>2.0</td>\n",
       "      <td>19</td>\n",
       "      <td>abacus</td>\n",
       "      <td>{ b @ k @ s</td>\n",
       "      <td>æbəkəs</td>\n",
       "    </tr>\n",
       "    <tr>\n",
       "      <th>1</th>\n",
       "      <td>3</td>\n",
       "      <td>ābăʹndon</td>\n",
       "      <td>F.</td>\n",
       "      <td>NaN</td>\n",
       "      <td>NaN</td>\n",
       "      <td>v.</td>\n",
       "      <td>5.0</td>\n",
       "      <td>19</td>\n",
       "      <td>abandon</td>\n",
       "      <td>@ b { n d @ n</td>\n",
       "      <td>əbændən</td>\n",
       "    </tr>\n",
       "    <tr>\n",
       "      <th>2</th>\n",
       "      <td>4</td>\n",
       "      <td>ābăʹndŏned</td>\n",
       "      <td>NaN</td>\n",
       "      <td>NaN</td>\n",
       "      <td>NaN</td>\n",
       "      <td>a.</td>\n",
       "      <td>6.0</td>\n",
       "      <td>19</td>\n",
       "      <td>abandoned</td>\n",
       "      <td>@ b { n d @ n d</td>\n",
       "      <td>əbændənd</td>\n",
       "    </tr>\n",
       "    <tr>\n",
       "      <th>3</th>\n",
       "      <td>2</td>\n",
       "      <td>ăbăʹſh</td>\n",
       "      <td>F.</td>\n",
       "      <td>NaN</td>\n",
       "      <td>NaN</td>\n",
       "      <td>v.</td>\n",
       "      <td>9.0</td>\n",
       "      <td>19</td>\n",
       "      <td>abash</td>\n",
       "      <td>@ b { S</td>\n",
       "      <td>əbæʃ</td>\n",
       "    </tr>\n",
       "    <tr>\n",
       "      <th>4</th>\n",
       "      <td>2</td>\n",
       "      <td>ăbāʹte</td>\n",
       "      <td>F.</td>\n",
       "      <td>NaN</td>\n",
       "      <td>NaN</td>\n",
       "      <td>v.</td>\n",
       "      <td>10.0</td>\n",
       "      <td>19</td>\n",
       "      <td>abate</td>\n",
       "      <td>@ b eI t</td>\n",
       "      <td>əb?t</td>\n",
       "    </tr>\n",
       "    <tr>\n",
       "      <th>...</th>\n",
       "      <td>...</td>\n",
       "      <td>...</td>\n",
       "      <td>...</td>\n",
       "      <td>...</td>\n",
       "      <td>...</td>\n",
       "      <td>...</td>\n",
       "      <td>...</td>\n",
       "      <td>...</td>\n",
       "      <td>...</td>\n",
       "      <td>...</td>\n",
       "      <td>...</td>\n",
       "    </tr>\n",
       "    <tr>\n",
       "      <th>10328</th>\n",
       "      <td>2</td>\n",
       "      <td>zĕʹnith</td>\n",
       "      <td>NaN</td>\n",
       "      <td>NaN</td>\n",
       "      <td>NaN</td>\n",
       "      <td>n.</td>\n",
       "      <td>11.0</td>\n",
       "      <td>241</td>\n",
       "      <td>zenith</td>\n",
       "      <td>z i: n @ T</td>\n",
       "      <td>ziːnəθ</td>\n",
       "    </tr>\n",
       "    <tr>\n",
       "      <th>10329</th>\n",
       "      <td>1</td>\n",
       "      <td>zĕſt</td>\n",
       "      <td>NaN</td>\n",
       "      <td>NaN</td>\n",
       "      <td>NaN</td>\n",
       "      <td>n.</td>\n",
       "      <td>13.0</td>\n",
       "      <td>241</td>\n",
       "      <td>zest</td>\n",
       "      <td>z E s t</td>\n",
       "      <td>zɛst</td>\n",
       "    </tr>\n",
       "    <tr>\n",
       "      <th>10330</th>\n",
       "      <td>1</td>\n",
       "      <td>zĭnk</td>\n",
       "      <td>NaN</td>\n",
       "      <td>NaN</td>\n",
       "      <td>NaN</td>\n",
       "      <td>n.</td>\n",
       "      <td>14.0</td>\n",
       "      <td>241</td>\n",
       "      <td>zink</td>\n",
       "      <td>z I N k</td>\n",
       "      <td>zɪŋk</td>\n",
       "    </tr>\n",
       "    <tr>\n",
       "      <th>10331</th>\n",
       "      <td>3</td>\n",
       "      <td>zōʹdĭac</td>\n",
       "      <td>NaN</td>\n",
       "      <td>NaN</td>\n",
       "      <td>NaN</td>\n",
       "      <td>n.</td>\n",
       "      <td>16.0</td>\n",
       "      <td>241</td>\n",
       "      <td>zodiac</td>\n",
       "      <td>z @U 4 i: { k</td>\n",
       "      <td>zoʊɾiːæk</td>\n",
       "    </tr>\n",
       "    <tr>\n",
       "      <th>10332</th>\n",
       "      <td>1</td>\n",
       "      <td>zōne</td>\n",
       "      <td>NaN</td>\n",
       "      <td>NaN</td>\n",
       "      <td>NaN</td>\n",
       "      <td>n.</td>\n",
       "      <td>18.0</td>\n",
       "      <td>241</td>\n",
       "      <td>zone</td>\n",
       "      <td>z @U n</td>\n",
       "      <td>zoʊn</td>\n",
       "    </tr>\n",
       "  </tbody>\n",
       "</table>\n",
       "<p>10333 rows × 11 columns</p>\n",
       "</div>"
      ],
      "text/plain": [
       "       nbSyll        pron origin warning remarques POS  lineId  pageId  \\\n",
       "0           3     aʹbăcus    NaN     NaN       NaN  n.     2.0      19   \n",
       "1           3    ābăʹndon     F.     NaN       NaN  v.     5.0      19   \n",
       "2           4  ābăʹndŏned    NaN     NaN       NaN  a.     6.0      19   \n",
       "3           2      ăbăʹſh     F.     NaN       NaN  v.     9.0      19   \n",
       "4           2      ăbāʹte     F.     NaN       NaN  v.    10.0      19   \n",
       "...       ...         ...    ...     ...       ...  ..     ...     ...   \n",
       "10328       2     zĕʹnith    NaN     NaN       NaN  n.    11.0     241   \n",
       "10329       1        zĕſt    NaN     NaN       NaN  n.    13.0     241   \n",
       "10330       1        zĭnk    NaN     NaN       NaN  n.    14.0     241   \n",
       "10331       3     zōʹdĭac    NaN     NaN       NaN  n.    16.0     241   \n",
       "10332       1        zōne    NaN     NaN       NaN  n.    18.0     241   \n",
       "\n",
       "             hwd        pronSampa       ipa  \n",
       "0         abacus      { b @ k @ s    æbəkəs  \n",
       "1        abandon    @ b { n d @ n   əbændən  \n",
       "2      abandoned  @ b { n d @ n d  əbændənd  \n",
       "3          abash          @ b { S      əbæʃ  \n",
       "4          abate         @ b eI t      əb?t  \n",
       "...          ...              ...       ...  \n",
       "10328     zenith       z i: n @ T    ziːnəθ  \n",
       "10329       zest          z E s t      zɛst  \n",
       "10330       zink          z I N k      zɪŋk  \n",
       "10331     zodiac    z @U 4 i: { k  zoʊɾiːæk  \n",
       "10332       zone           z @U n      zoʊn  \n",
       "\n",
       "[10333 rows x 11 columns]"
      ]
     },
     "execution_count": 17,
     "metadata": {},
     "output_type": "execute_result"
    }
   ],
   "source": [
    "dfDicoBuch_f = dfDicoBuchMot.merge(dfDicoBigiRich, left_on = ['motVedette'], right_on= ['hwd']).drop(columns=['motVedette'])\n",
    "dfDicoBuch_f"
   ]
  },
  {
   "cell_type": "markdown",
   "metadata": {},
   "source": [
    "#### 2) a. isoler les mots de Buchanan qui n'existent pas dans Bigi. Tenter de comprendre les différentes causes et tenter d'expliquer comment résoudre les différents problèmes (bonus)"
   ]
  },
  {
   "cell_type": "code",
   "execution_count": 25,
   "metadata": {},
   "outputs": [],
   "source": [
    "mots_manquants = [x for x in list(dfDicoBuchMot['motVedette']) if x not in list(dfDicoBuch_f['hwd'])]"
   ]
  },
  {
   "cell_type": "code",
   "execution_count": 26,
   "metadata": {},
   "outputs": [
    {
     "data": {
      "text/plain": [
       "5467"
      ]
     },
     "execution_count": 26,
     "metadata": {},
     "output_type": "execute_result"
    }
   ],
   "source": [
    "# 15 800 - 10 333 mots manquants\n",
    "len(mots_manquants)"
   ]
  },
  {
   "cell_type": "code",
   "execution_count": 27,
   "metadata": {},
   "outputs": [
    {
     "data": {
      "text/plain": [
       "['cartouoch',\n",
       " 'variegate',\n",
       " 'futtle',\n",
       " 'remonstrate',\n",
       " 'calcination',\n",
       " 'foresail',\n",
       " 'lacerable',\n",
       " 'ingratitude',\n",
       " 'obediential',\n",
       " 'ringbone']"
      ]
     },
     "execution_count": 27,
     "metadata": {},
     "output_type": "execute_result"
    }
   ],
   "source": [
    "from random import sample\n",
    "\n",
    "sample(mots_manquants, 10)"
   ]
  },
  {
   "cell_type": "markdown",
   "metadata": {},
   "source": [
    "Les mots de Buchanan n'existant pas dans Bigi sont des mots que nous n'avons pas pu correctement créé à partir de leur prononciation en première partie. Soit parce que la prononciation était mauvaise, soit parce que la table de mapping ne contenait pas les caractères présents dans la pronociation.\n",
    "\n",
    "Pour résoudre ce problème, nous pourrions rechercher les mots de Bigi se rapprochant des mots vedettes de Buchanan générés à partir de leur prononciation. Par exemple, en utilisant la distance de Levenshtein qui est un bon indicateur de mots proches."
   ]
  },
  {
   "cell_type": "markdown",
   "metadata": {},
   "source": [
    "Ci-dessous, un exemple avec la librairie fuzzywuzzy, on voit que le mot 'accouontable' présent dans la liste des mots manquants est associé au mot 'accountable' avec un score de proximité de 96/100."
   ]
  },
  {
   "cell_type": "code",
   "execution_count": 59,
   "metadata": {},
   "outputs": [
    {
     "name": "stdout",
     "output_type": "stream",
     "text": [
      "('accountable', 96)\n"
     ]
    }
   ],
   "source": [
    "from fuzzywuzzy import process\n",
    "\n",
    "mots_bigi = list(dfDicoBigiRich['hwd'])\n",
    "highest = process.extractOne('accouontable', mots_bigi)\n",
    "print(highest)"
   ]
  },
  {
   "cell_type": "markdown",
   "metadata": {},
   "source": [
    "Ci-dessous, un contre exemple montrant les limites de cette librairie avec le mot 'abetment'."
   ]
  },
  {
   "cell_type": "code",
   "execution_count": 63,
   "metadata": {},
   "outputs": [
    {
     "name": "stdout",
     "output_type": "stream",
     "text": [
      "('a', 90)\n",
      "[('a', 90), ('a.', 90), ('ab', 90), ('abe', 90), ('abet', 90)]\n"
     ]
    }
   ],
   "source": [
    "highest = process.extractOne('abetment', mots_bigi)\n",
    "list_of_similar_words = process.extract('abetment', mots_bigi)\n",
    "print(highest)\n",
    "print(list_of_similar_words)"
   ]
  },
  {
   "cell_type": "markdown",
   "metadata": {},
   "source": [
    "## 3) sauvegarder la nouvelle matrice obtenue dans ./../data/dataframe/BuchananRich.csv"
   ]
  },
  {
   "cell_type": "code",
   "execution_count": 65,
   "metadata": {},
   "outputs": [],
   "source": [
    "cheminDuDfFinal = \"./../data/dataframe/BuchananRich.csv\"\n",
    "\n",
    "dfDicoBuch_f.to_csv(cheminDuDfFinal, sep=\";\", encoding=\"utf8\", index=False )"
   ]
  }
 ],
 "metadata": {
  "kernelspec": {
   "display_name": "Python 3",
   "language": "python",
   "name": "python3"
  },
  "language_info": {
   "codemirror_mode": {
    "name": "ipython",
    "version": 3
   },
   "file_extension": ".py",
   "mimetype": "text/x-python",
   "name": "python",
   "nbconvert_exporter": "python",
   "pygments_lexer": "ipython3",
   "version": "3.7.6"
  }
 },
 "nbformat": 4,
 "nbformat_minor": 4
}
