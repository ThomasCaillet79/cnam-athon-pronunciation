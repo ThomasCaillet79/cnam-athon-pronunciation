{
 "cells": [
  {
   "cell_type": "markdown",
   "metadata": {},
   "source": [
    "# DicoCo\n",
    "\n",
    "*Thomas CAILLET*"
   ]
  },
  {
   "cell_type": "code",
   "execution_count": 1,
   "metadata": {},
   "outputs": [],
   "source": [
    "# import necessaire à la création des widgets\n",
    "from IPython.display import display, clear_output, HTML, Markdown, Audio\n",
    "import ipywidgets as widgets"
   ]
  },
  {
   "cell_type": "code",
   "execution_count": 2,
   "metadata": {},
   "outputs": [],
   "source": [
    "import pandas as pd\n",
    "import re"
   ]
  },
  {
   "cell_type": "code",
   "execution_count": 3,
   "metadata": {},
   "outputs": [],
   "source": [
    "from requests_html import HTMLSession\n",
    "import re\n",
    "import pandas as pd\n",
    "from bs4 import BeautifulSoup"
   ]
  },
  {
   "cell_type": "code",
   "execution_count": 4,
   "metadata": {},
   "outputs": [],
   "source": [
    "# Fonction de scrapping depuis longman reprise de la partie 1\n",
    "def scrap_from_longman(word):\n",
    "    \n",
    "    # requête http\n",
    "    URL = 'https://www.ldoceonline.com/dictionary/'+word\n",
    "    session = HTMLSession()\n",
    "    response = session.get(URL)\n",
    "    \n",
    "    if (response.status_code == 200):\n",
    "        \n",
    "        # récupération du body\n",
    "        html_doc = response.content\n",
    "        body = BeautifulSoup(html_doc,'html.parser').find('body')\n",
    "        \n",
    "        # instanciation des listes de données à récupérer\n",
    "        list_type = []\n",
    "        list_pron = []\n",
    "        list_audio_br = []\n",
    "        list_audio_us = []\n",
    "        \n",
    "        # récupération des spans contenant les données recherchées\n",
    "        frq_head = body.findAll('span', {'class': re.compile('(frequent )*Head')})\n",
    "\n",
    "        for result in frq_head:\n",
    "            # recherche des spans des valeurs POS et PRON dans les sous-arbres\n",
    "            if result.find('span', {'class':'POS'}) is not None:\n",
    "                list_type.append(result.find('span', {'class':'POS'}).text.strip())\n",
    "            if result.find('span', {'class':'PRON'}) is not None:\n",
    "                list_pron.append(result.find('span', {'class':'PRON'}).text.strip())\n",
    "\n",
    "            spans_of_freq_head = result.findAll('span')\n",
    "            \n",
    "            # recherche des spans ayant comme attribut data-src-mp3\n",
    "            for span in spans_of_freq_head:\n",
    "                if span.has_attr('data-src-mp3'):\n",
    "                    if 'British' in span['title']:\n",
    "                        list_audio_br.append(span['data-src-mp3'])\n",
    "                    elif 'American' in span['title']:\n",
    "                        list_audio_us.append(span['data-src-mp3'])\n",
    "        \n",
    "        # nombre d'homonymes\n",
    "        nb_hom = len(list_type)\n",
    "        \n",
    "        # création du dataframe final\n",
    "        list_mots = nb_hom * [word]\n",
    "        while (len(list_pron) < nb_hom):\n",
    "            list_pron.append(list_pron[0])\n",
    "        \n",
    "        df_result = pd.DataFrame(list(zip(list_mots, list_type, list_pron, list_audio_br, list_audio_us)),\n",
    "                        columns = ['mot', 'type', 'pron', 'audio_br', 'audio_us'])\n",
    "    else:\n",
    "        # on retourne quand même un tableau vide concatenable\n",
    "        df_result = pd.DataFrame(columns = ['mot', 'type', 'pron', 'audio_br', 'audio_us'])\n",
    "    \n",
    "    return df_result"
   ]
  },
  {
   "cell_type": "code",
   "execution_count": 5,
   "metadata": {},
   "outputs": [],
   "source": [
    "cheminDicoBuchMot = \"./../data/dataframe/BuchananRich.csv\"\n",
    "monDico = pd.read_csv(cheminDicoBuchMot, delimiter=\";\", encoding=\"utf8\")[['hwd', 'pron', 'POS', 'pronSampa', 'ipa']]"
   ]
  },
  {
   "cell_type": "code",
   "execution_count": 6,
   "metadata": {},
   "outputs": [],
   "source": [
    "def filtDf(strHwd):    \n",
    "    dfMonDicoFiltered = monDico[monDico['hwd'].str.contains(strHwd, na=False,flags=re.IGNORECASE, regex=True)]\n",
    "    return dfMonDicoFiltered"
   ]
  },
  {
   "cell_type": "code",
   "execution_count": 7,
   "metadata": {},
   "outputs": [],
   "source": [
    "# widget input\n",
    "textFilter = widgets.Text(\n",
    "       value=\"love\",\n",
    "       description='filtre hwd',\n",
    "       layout={'width': '300px'} )\n",
    "\n",
    "# widget button\n",
    "buttonFiltrer = widgets.Button(description='Filtrer')\n",
    "\n",
    "# widget slider nb occurences\n",
    "nbOccur_f = widgets.IntSlider(value=3, min=0, max=20)\n",
    "\n",
    "# widgets d'outputs\n",
    "outDf = widgets.Output()\n",
    "outMp3 = widgets.Output()\n",
    "\n",
    "# fonction appelé au click\n",
    "def on_button_clicked_f(_):\n",
    "    \n",
    "    # récupérer le texte saisi par l'utilisateur\n",
    "    targetWord = textFilter.value\n",
    "    df_filtered = filtDf(targetWord)\n",
    "    # on préfère ici afficher les n premiers plutôt qu'un sample\n",
    "    df_filtered_visible = df_filtered.head(nbOccur_f.value)\n",
    "    \n",
    "    # widget affichant le Df\n",
    "    with outDf:\n",
    "        clear_output()\n",
    "        display(df_filtered_visible)\n",
    "    \n",
    "    # widget contenant l'url longman et les players audios\n",
    "    with outMp3:\n",
    "        clear_output()\n",
    "        for word in df_filtered_visible['hwd']:\n",
    "            urlLongman = \"https://www.ldoceonline.com/dictionary/\"\n",
    "            urlTarget = urlLongman+word\n",
    "            display(HTML('<a href=\"'+urlTarget+'\" target=\"_blank\" >'+'longman : '+word+'</a>'))\n",
    "            \n",
    "            # appel de la fonction de scrapping renvoyant un Df (pouvant être nul!)\n",
    "            audio_url_br = scrap_from_longman(word)['audio_br']\n",
    "            audio_url_us = scrap_from_longman(word)['audio_us']\n",
    "            \n",
    "            # on split l'url qui contient la version en paramètre '?version=XXX' \n",
    "            # --> url .mp3 compatible avec le display Audio\n",
    "            if len(audio_url_br) > 0:\n",
    "                audio_url_br = audio_url_br.iloc[0].split('?', 1)[0]\n",
    "                display(HTML('<b>BR</b>'))\n",
    "                display(Audio(url=audio_url_br))\n",
    "            \n",
    "            if len(audio_url_us) > 0:\n",
    "                audio_url_us = audio_url_us.iloc[0].split('?', 1)[0]\n",
    "                display(HTML('<b>US</b>'))\n",
    "                display(Audio(url=audio_url_us))\n",
    "            \n",
    "            if len(audio_url_br) == 0 and len(audio_url_us) == 0:\n",
    "                display(HTML('Pas de fichier audio pour le mot '+word))\n",
    "            \n",
    "buttonFiltrer.on_click(on_button_clicked_f)"
   ]
  },
  {
   "cell_type": "code",
   "execution_count": 8,
   "metadata": {
    "scrolled": false
   },
   "outputs": [
    {
     "data": {
      "application/vnd.jupyter.widget-view+json": {
       "model_id": "55e6bf8d16224f90920f1e530264e0c9",
       "version_major": 2,
       "version_minor": 0
      },
      "text/plain": [
       "VBox(children=(HBox(children=(Text(value='love', description='filtre hwd', layout=Layout(width='300px')), Butt…"
      ]
     },
     "metadata": {},
     "output_type": "display_data"
    }
   ],
   "source": [
    "vbFiltres_f = widgets.HBox([textFilter, buttonFiltrer, nbOccur_f])\n",
    "vbOuts_f = widgets.VBox([outDf,outMp3])\n",
    "\n",
    "hbAllWidgets_f = widgets.VBox([vbFiltres_f,vbOuts_f])\n",
    "\n",
    "hbAllWidgets_f"
   ]
  },
  {
   "cell_type": "code",
   "execution_count": null,
   "metadata": {},
   "outputs": [],
   "source": []
  }
 ],
 "metadata": {
  "kernelspec": {
   "display_name": "Python 3",
   "language": "python",
   "name": "python3"
  },
  "language_info": {
   "codemirror_mode": {
    "name": "ipython",
    "version": 3
   },
   "file_extension": ".py",
   "mimetype": "text/x-python",
   "name": "python",
   "nbconvert_exporter": "python",
   "pygments_lexer": "ipython3",
   "version": "3.7.6"
  }
 },
 "nbformat": 4,
 "nbformat_minor": 4
}
