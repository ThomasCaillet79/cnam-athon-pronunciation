{
 "cells": [
  {
   "cell_type": "markdown",
   "metadata": {},
   "source": [
    "# Interactive Walker Dictionary"
   ]
  },
  {
   "cell_type": "markdown",
   "metadata": {},
   "source": [
    "## Source code Section"
   ]
  },
  {
   "cell_type": "code",
   "execution_count": 1,
   "metadata": {
    "jupyter": {
     "source_hidden": true
    }
   },
   "outputs": [],
   "source": [
    "import pandas as pd\n",
    "import re\n",
    "from datetime import datetime\n",
    "from pathlib import Path\n",
    "import ipywidgets as widgets\n",
    "from IPython.display import display, clear_output\n",
    "\n",
    "pathDicoNormalised = \"./../../datas/03-dicos-normalised/1809-1827_Walker-J/\"\n",
    "pathCsvFile = pathDicoNormalised+\"1809-1827_Walker-J_Norm.csv\"\n",
    "dfWalker = pd.read_csv(pathCsvFile, sep=\";\", encoding=\"utf-8\", dtype ={'headword':str,'idSuperEntry':str}, low_memory=False)\n",
    "#print(\"nb entries\",len(dfWalker))"
   ]
  },
  {
   "cell_type": "code",
   "execution_count": 2,
   "metadata": {
    "jupyter": {
     "source_hidden": true
    }
   },
   "outputs": [],
   "source": [
    "basePathOut = \"./savedDf/\"\n",
    "\n",
    "Path(basePathOut).mkdir(parents=True, exist_ok=True)\n",
    "\n",
    "fileDfSavedDatas = basePathOut+\"savedDf.csv\"\n",
    "dfSavedDatas = pd.DataFrame(columns={\"idFilename\",\"hwdFilter\",\"nbSyllFilter\",\"nbOcc\"})\n",
    "dfSavedDatas.to_csv(fileDfSavedDatas,encoding=\"utf8\", sep =\";\", index=False)"
   ]
  },
  {
   "cell_type": "code",
   "execution_count": 3,
   "metadata": {
    "jupyter": {
     "source_hidden": true
    }
   },
   "outputs": [],
   "source": [
    "def saveDf(btn):\n",
    "    hwdFilt = wid_hwd.value\n",
    "    nbSyllFilt = wid_nbsyll.value\n",
    "\n",
    "    dfWalkerFiltered = filtDf(hwdFilt, nbSyllFilt)\n",
    "        \n",
    "    filenameDate = datetime.now().strftime(\"%d-%m-%Y_%I-%M-%S_%p\")\n",
    "    filenameCsvOut = basePathOut+\"df_\"+filenameDate+\".csv\"\n",
    "    dfWalkerFiltered.to_csv(filenameCsvOut,encoding=\"utf8\", sep =\";\", index=False)\n",
    "    \n",
    "    filenameXlsOut = basePathOut+\"df_\"+filenameDate+\".xls\"\n",
    "    dfWalkerFiltered.to_excel(filenameXlsOut, index=True)\n",
    "    \n",
    "    with outputSavedData:\n",
    "        dfSavedDatas = pd.read_csv(fileDfSavedDatas, sep=\";\", encoding=\"utf-8\", dtype ={'headword':str,'idSuperEntry':str}, low_memory=False)\n",
    "        dfSavedDatas = dfSavedDatas.append({\"idFilename\":filenameDate,\"hwdFilter\":hwdFilt,\"nbSyllFilter\":nbSyllFilt, \"nbOcc\":str(len(dfWalkerFiltered))},ignore_index=True)\n",
    "        dfSavedDatas.to_csv(fileDfSavedDatas,encoding=\"utf8\", sep =\";\", index=False)\n",
    "        \n",
    "        clear_output()\n",
    "        display(dfSavedDatas)\n",
    "                \n",
    "wid_btnSaveDf = widgets.Button(description=\"save dataframe\")\n",
    "wid_btnSaveDf.on_click(saveDf)"
   ]
  },
  {
   "cell_type": "code",
   "execution_count": 4,
   "metadata": {
    "jupyter": {
     "source_hidden": true
    }
   },
   "outputs": [],
   "source": [
    "def filtDf(strHwd, rangeSyll):    \n",
    "    dfWalkerFiltered = dfWalker[dfWalker['hwdR'].str.contains(strHwd, na=False,flags=re.IGNORECASE, regex=True)]\n",
    "    dfWalkerFiltered = dfWalkerFiltered[dfWalkerFiltered['nbSyll'].between(rangeSyll[0], rangeSyll[1], inclusive=True)]\n",
    "    return dfWalkerFiltered\n",
    "\n",
    "def filterFct(strHwd, rangeSyll):\n",
    "    if strHwd==\"\":\n",
    "        strHwd = \".*\"\n",
    "    else:\n",
    "        pass\n",
    "    \n",
    "    dfWalkerFiltered = filtDf(strHwd, rangeSyll)\n",
    "    lnbocc = widgets.Label(\"nb. occ. : \"+str(len(dfWalkerFiltered)))\n",
    "    display(lnbocc)\n",
    "    display(dfWalkerFiltered)"
   ]
  },
  {
   "cell_type": "code",
   "execution_count": 5,
   "metadata": {
    "jupyter": {
     "source_hidden": true
    }
   },
   "outputs": [],
   "source": [
    "nbSyllMin = dfWalker[\"nbSyll\"].min()\n",
    "nbSyllMax = dfWalker[\"nbSyll\"].max()\n",
    "\n",
    "optionsNbSyll = range(nbSyllMin, nbSyllMax+1)\n",
    "wid_nbsyll = widgets.SelectionRangeSlider(\n",
    "    options=optionsNbSyll,\n",
    "    index=(min(optionsNbSyll)-1,max(optionsNbSyll)-1),\n",
    "    description='nb syll',\n",
    "    disabled=False\n",
    ")"
   ]
  },
  {
   "cell_type": "code",
   "execution_count": 6,
   "metadata": {
    "jupyter": {
     "source_hidden": true
    }
   },
   "outputs": [],
   "source": [
    "wid_hwd = widgets.Text(placeholder='.*',value='^pre',description=\"Hwd\")"
   ]
  },
  {
   "cell_type": "code",
   "execution_count": 7,
   "metadata": {
    "jupyter": {
     "source_hidden": true
    }
   },
   "outputs": [],
   "source": [
    "outputSavedData = widgets.Output()"
   ]
  },
  {
   "cell_type": "code",
   "execution_count": 8,
   "metadata": {
    "jupyter": {
     "source_hidden": true
    }
   },
   "outputs": [],
   "source": [
    "ui = widgets.HBox([wid_hwd, wid_nbsyll, wid_btnSaveDf])\n",
    "out = widgets.interactive_output(filterFct, {'strHwd': wid_hwd, \"rangeSyll\":wid_nbsyll})"
   ]
  },
  {
   "cell_type": "markdown",
   "metadata": {},
   "source": [
    "## User interface Section\n",
    "### Memo. expression régulière pour filtrage de heaword\n",
    "\n",
    "* Afficher les mots qui commencent par pre : ^pre\n",
    "\n",
    "* Afficher les mots qui finissent par ing : ing$\n",
    "\n",
    "* Afficher les mots qui contiennent un o suivi d'un a ou e ou i ou u : o[aeiou]\n",
    "\n",
    "* Afficher les mots de 3 lettres : ^.{3}$\n",
    "\n",
    "* Afficher les mots de 3 à 5 lettres : ^.{3,5}$"
   ]
  },
  {
   "cell_type": "code",
   "execution_count": 9,
   "metadata": {
    "jupyter": {
     "source_hidden": true
    }
   },
   "outputs": [
    {
     "data": {
      "application/vnd.jupyter.widget-view+json": {
       "model_id": "a94522d019a4488b91460d6a998c86f8",
       "version_major": 2,
       "version_minor": 0
      },
      "text/plain": [
       "HBox(children=(Text(value='^pre', description='Hwd', placeholder='.*'), SelectionRangeSlider(description='nb s…"
      ]
     },
     "metadata": {},
     "output_type": "display_data"
    },
    {
     "data": {
      "application/vnd.jupyter.widget-view+json": {
       "model_id": "ab50a9d03bfd497b90c8ef0e5977cffc",
       "version_major": 2,
       "version_minor": 0
      },
      "text/plain": [
       "Output()"
      ]
     },
     "metadata": {},
     "output_type": "display_data"
    }
   ],
   "source": [
    "display(ui, out)"
   ]
  },
  {
   "cell_type": "markdown",
   "metadata": {},
   "source": [
    "### Saved datas"
   ]
  },
  {
   "cell_type": "code",
   "execution_count": 10,
   "metadata": {
    "jupyter": {
     "source_hidden": true
    }
   },
   "outputs": [
    {
     "data": {
      "application/vnd.jupyter.widget-view+json": {
       "model_id": "3636e23bbb5f4a69949cad0901a4d0d8",
       "version_major": 2,
       "version_minor": 0
      },
      "text/plain": [
       "Output()"
      ]
     },
     "metadata": {},
     "output_type": "display_data"
    }
   ],
   "source": [
    "display(outputSavedData)"
   ]
  },
  {
   "cell_type": "code",
   "execution_count": null,
   "metadata": {
    "jupyter": {
     "source_hidden": true
    }
   },
   "outputs": [],
   "source": []
  }
 ],
 "metadata": {
  "kernelspec": {
   "display_name": "Python 3",
   "language": "python",
   "name": "python3"
  },
  "language_info": {
   "codemirror_mode": {
    "name": "ipython",
    "version": 3
   },
   "file_extension": ".py",
   "mimetype": "text/x-python",
   "name": "python",
   "nbconvert_exporter": "python",
   "pygments_lexer": "ipython3",
   "version": "3.7.6"
  }
 },
 "nbformat": 4,
 "nbformat_minor": 4
}
