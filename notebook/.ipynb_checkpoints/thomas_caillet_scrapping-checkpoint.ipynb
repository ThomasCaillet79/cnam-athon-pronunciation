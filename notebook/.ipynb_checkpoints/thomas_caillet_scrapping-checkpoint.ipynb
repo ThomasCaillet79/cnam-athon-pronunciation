{
 "cells": [
  {
   "cell_type": "code",
   "execution_count": 1,
   "metadata": {},
   "outputs": [],
   "source": [
    "from requests_html import HTMLSession\n",
    "import re\n",
    "import pandas as pd"
   ]
  },
  {
   "cell_type": "code",
   "execution_count": 93,
   "metadata": {},
   "outputs": [],
   "source": [
    "def scrap_from_longman(word):\n",
    "    \n",
    "    # requête http\n",
    "    URL = 'https://www.ldoceonline.com/dictionary/'+word\n",
    "    session = HTMLSession()\n",
    "    response = session.get(URL)\n",
    "    \n",
    "    if (response.status_code == 200):\n",
    "        \n",
    "        # récupération du body\n",
    "        html_doc = response.content\n",
    "        body = BeautifulSoup(html_doc,'html.parser').find('body')\n",
    "        \n",
    "        # instanciation des listes de données à récupérer\n",
    "        list_type = []\n",
    "        list_pron = []\n",
    "        list_audio_br = []\n",
    "        list_audio_us = []\n",
    "        \n",
    "        # récupération des spans contenant les données recherchées\n",
    "        frq_head = body.findAll('span', {'class': re.compile('(frequent )*Head')})\n",
    "\n",
    "        for result in frq_head:\n",
    "            # recherche des spans des valeurs POS et PRON dans les sous-arbres\n",
    "            if result.find('span', {'class':'POS'}) is not None:\n",
    "                list_type.append(result.find('span', {'class':'POS'}).text.strip())\n",
    "            if result.find('span', {'class':'PRON'}) is not None:\n",
    "                list_pron.append(result.find('span', {'class':'PRON'}).text.strip())\n",
    "\n",
    "            spans_of_freq_head = result.findAll('span')\n",
    "            \n",
    "            # recherche des spans ayant comme attribut data-src-mp3\n",
    "            for span in spans_of_freq_head:\n",
    "                if span.has_attr('data-src-mp3'):\n",
    "                    if 'British' in span['title']:\n",
    "                        list_audio_br.append(span['data-src-mp3'])\n",
    "                    elif 'American' in span['title']:\n",
    "                        list_audio_us.append(span['data-src-mp3'])\n",
    "        \n",
    "        # nombre d'homonymes\n",
    "        nb_hom = len(list_type)\n",
    "        \n",
    "        # création du dataframe final\n",
    "        list_mots = nb_hom * [mot]\n",
    "        while (len(list_pron) < nb_hom):\n",
    "            list_pron.append(list_pron[0])\n",
    "        \n",
    "        df_result = pd.DataFrame(list(zip(list_mots, list_type, list_pron, list_audio_br, list_audio_us)),\n",
    "                        columns = ['mot', 'type', 'pron', 'audio_br', 'audio_us'])\n",
    "    else:\n",
    "        # on retourne quand même un tableau vide concatenable\n",
    "        df_result = pd.DataFrame(columns = ['mot', 'type', 'pron', 'audio_br', 'audio_us'])\n",
    "    \n",
    "    return df_result"
   ]
  },
  {
   "cell_type": "code",
   "execution_count": 94,
   "metadata": {},
   "outputs": [
    {
     "name": "stdout",
     "output_type": "stream",
     "text": [
      "Mot choisi :\n",
      "love\n"
     ]
    },
    {
     "data": {
      "text/html": [
       "<div>\n",
       "<style scoped>\n",
       "    .dataframe tbody tr th:only-of-type {\n",
       "        vertical-align: middle;\n",
       "    }\n",
       "\n",
       "    .dataframe tbody tr th {\n",
       "        vertical-align: top;\n",
       "    }\n",
       "\n",
       "    .dataframe thead th {\n",
       "        text-align: right;\n",
       "    }\n",
       "</style>\n",
       "<table border=\"1\" class=\"dataframe\">\n",
       "  <thead>\n",
       "    <tr style=\"text-align: right;\">\n",
       "      <th></th>\n",
       "      <th>mot</th>\n",
       "      <th>type</th>\n",
       "      <th>pron</th>\n",
       "      <th>audio_br</th>\n",
       "      <th>audio_us</th>\n",
       "    </tr>\n",
       "  </thead>\n",
       "  <tbody>\n",
       "    <tr>\n",
       "      <th>0</th>\n",
       "      <td>love</td>\n",
       "      <td>verb</td>\n",
       "      <td>lʌv</td>\n",
       "      <td>https://www.ldoceonline.com/media/english/breP...</td>\n",
       "      <td>https://www.ldoceonline.com/media/english/ameP...</td>\n",
       "    </tr>\n",
       "    <tr>\n",
       "      <th>1</th>\n",
       "      <td>love</td>\n",
       "      <td>noun</td>\n",
       "      <td>lʌv</td>\n",
       "      <td>https://www.ldoceonline.com/media/english/breP...</td>\n",
       "      <td>https://www.ldoceonline.com/media/english/ameP...</td>\n",
       "    </tr>\n",
       "  </tbody>\n",
       "</table>\n",
       "</div>"
      ],
      "text/plain": [
       "    mot  type pron                                           audio_br  \\\n",
       "0  love  verb  lʌv  https://www.ldoceonline.com/media/english/breP...   \n",
       "1  love  noun  lʌv  https://www.ldoceonline.com/media/english/breP...   \n",
       "\n",
       "                                            audio_us  \n",
       "0  https://www.ldoceonline.com/media/english/ameP...  \n",
       "1  https://www.ldoceonline.com/media/english/ameP...  "
      ]
     },
     "execution_count": 94,
     "metadata": {},
     "output_type": "execute_result"
    }
   ],
   "source": [
    "print('Mot choisi :')\n",
    "mot = input()\n",
    "scrap_from_longman(mot)"
   ]
  }
 ],
 "metadata": {
  "kernelspec": {
   "display_name": "Python 3",
   "language": "python",
   "name": "python3"
  },
  "language_info": {
   "codemirror_mode": {
    "name": "ipython",
    "version": 3
   },
   "file_extension": ".py",
   "mimetype": "text/x-python",
   "name": "python",
   "nbconvert_exporter": "python",
   "pygments_lexer": "ipython3",
   "version": "3.7.6"
  }
 },
 "nbformat": 4,
 "nbformat_minor": 4
}
